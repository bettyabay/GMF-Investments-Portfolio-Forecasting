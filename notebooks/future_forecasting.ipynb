{
 "cells": [
  {
   "cell_type": "markdown",
   "metadata": {},
   "source": [
    "# **Forecast Future Market Trends**\n",
    "\n",
    "Based on the best models trained, will forcast the next 6-12 months of Tesla's price\n",
    "- analyze tesla's trend\n",
    "- analyze risk\n",
    "- analyze volatility\n",
    "- analyze market oportunity\n",
    "\n",
    "First, import required libraries and script modules"
   ]
  },
  {
   "cell_type": "code",
   "execution_count": 1,
   "metadata": {},
   "outputs": [],
   "source": [
    "# Import necessary libraries\n",
    "import pandas as pd\n",
    "import numpy as np\n",
    "import matplotlib.pyplot as plt\n",
    "import seaborn as sns\n",
    "\n",
    "import os, sys\n",
    "# Add the 'scripts' directory to the Python path for module imports\n",
    "sys.path.append(os.path.abspath(os.path.join('..', 'scripts')))\n",
    "\n",
    "# Set max rows and columns to display\n",
    "pd.set_option('display.max_columns', 200)\n",
    "pd.set_option('display.max_rows', 200)\n",
    "\n",
    "# Configure logging\n",
    "from logger import SetupLogger\n",
    "# Assuming this class is defined in scripts/\n",
    "from data_preprocessing import DataPreprocessor\n",
    "from future_forecasting import ModelForecaster\n",
    "logger = SetupLogger(log_file='../logs/notebooks.log').get_logger()\n",
    "\n",
    "# Set default figure size for all plots\n",
    "plt.rcParams['figure.figsize'] = (14, 7)"
   ]
  },
  {
   "cell_type": "markdown",
   "metadata": {},
   "source": [
    "**Loading the recent Tesla's Dataset**"
   ]
  },
  {
   "cell_type": "code",
   "execution_count": 7,
   "metadata": {},
   "outputs": [],
   "source": [
    "# Initialize class instances\n",
    "path = '../data/'\n",
    "processor = DataPreprocessor(data_dir = path, logger=logger)\n",
    "\n",
    "# Load the data\n",
    "tsla_data = processor.load_data('TSLA')"
   ]
  },
  {
   "cell_type": "code",
   "execution_count": 3,
   "metadata": {},
   "outputs": [
    {
     "data": {
      "text/html": [
       "<div>\n",
       "<style scoped>\n",
       "    .dataframe tbody tr th:only-of-type {\n",
       "        vertical-align: middle;\n",
       "    }\n",
       "\n",
       "    .dataframe tbody tr th {\n",
       "        vertical-align: top;\n",
       "    }\n",
       "\n",
       "    .dataframe thead th {\n",
       "        text-align: right;\n",
       "    }\n",
       "</style>\n",
       "<table border=\"1\" class=\"dataframe\">\n",
       "  <thead>\n",
       "    <tr style=\"text-align: right;\">\n",
       "      <th></th>\n",
       "      <th>Open</th>\n",
       "      <th>High</th>\n",
       "      <th>Low</th>\n",
       "      <th>Close</th>\n",
       "      <th>Volume</th>\n",
       "    </tr>\n",
       "    <tr>\n",
       "      <th>Date</th>\n",
       "      <th></th>\n",
       "      <th></th>\n",
       "      <th></th>\n",
       "      <th></th>\n",
       "      <th></th>\n",
       "    </tr>\n",
       "  </thead>\n",
       "  <tbody>\n",
       "    <tr>\n",
       "      <th>2024-12-31</th>\n",
       "      <td>423.79</td>\n",
       "      <td>427.9300</td>\n",
       "      <td>402.54</td>\n",
       "      <td>403.84</td>\n",
       "      <td>76825121</td>\n",
       "    </tr>\n",
       "    <tr>\n",
       "      <th>2024-12-30</th>\n",
       "      <td>419.40</td>\n",
       "      <td>427.0000</td>\n",
       "      <td>415.75</td>\n",
       "      <td>417.41</td>\n",
       "      <td>64941012</td>\n",
       "    </tr>\n",
       "    <tr>\n",
       "      <th>2024-12-27</th>\n",
       "      <td>449.52</td>\n",
       "      <td>450.0000</td>\n",
       "      <td>426.50</td>\n",
       "      <td>431.66</td>\n",
       "      <td>82666821</td>\n",
       "    </tr>\n",
       "    <tr>\n",
       "      <th>2024-12-26</th>\n",
       "      <td>465.16</td>\n",
       "      <td>465.3299</td>\n",
       "      <td>451.02</td>\n",
       "      <td>454.13</td>\n",
       "      <td>76651210</td>\n",
       "    </tr>\n",
       "    <tr>\n",
       "      <th>2024-12-24</th>\n",
       "      <td>435.90</td>\n",
       "      <td>462.7800</td>\n",
       "      <td>435.14</td>\n",
       "      <td>462.28</td>\n",
       "      <td>59551750</td>\n",
       "    </tr>\n",
       "  </tbody>\n",
       "</table>\n",
       "</div>"
      ],
      "text/plain": [
       "              Open      High     Low   Close    Volume\n",
       "Date                                                  \n",
       "2024-12-31  423.79  427.9300  402.54  403.84  76825121\n",
       "2024-12-30  419.40  427.0000  415.75  417.41  64941012\n",
       "2024-12-27  449.52  450.0000  426.50  431.66  82666821\n",
       "2024-12-26  465.16  465.3299  451.02  454.13  76651210\n",
       "2024-12-24  435.90  462.7800  435.14  462.28  59551750"
      ]
     },
     "execution_count": 3,
     "metadata": {},
     "output_type": "execute_result"
    }
   ],
   "source": [
    "tsla_data.head()"
   ]
  },
  {
   "cell_type": "markdown",
   "metadata": {},
   "source": [
    "**Model Forcasting**"
   ]
  },
  {
   "cell_type": "code",
   "execution_count": null,
   "metadata": {},
   "outputs": [],
   "source": [
    "# Initialize forecaster\n",
    "forecaster = ModelForecaster(tsla_data, '../data/tsla_forecast_12_months.csv', logger=logger)\n",
    "\n",
    "# Plot forecasts\n",
    "forecaster.plot_forecast()"
   ]
  },
  {
   "cell_type": "code",
   "execution_count": null,
   "metadata": {},
   "outputs": [],
   "source": [
    "# Analyze forecasts\n",
    "result = forecaster.analyze_forecast()\n",
    "result"
   ]
  }
 ],
 "metadata": {
  "kernelspec": {
   "display_name": "myenv11",
   "language": "python",
   "name": "python3"
  },
  "language_info": {
   "codemirror_mode": {
    "name": "ipython",
    "version": 3
   },
   "file_extension": ".py",
   "mimetype": "text/x-python",
   "name": "python",
   "nbconvert_exporter": "python",
   "pygments_lexer": "ipython3",
   "version": "3.10.0"
  }
 },
 "nbformat": 4,
 "nbformat_minor": 2
}
